{
  "nbformat": 4,
  "nbformat_minor": 0,
  "metadata": {
    "colab": {
      "provenance": []
    },
    "kernelspec": {
      "name": "python3",
      "display_name": "Python 3"
    },
    "language_info": {
      "name": "python"
    }
  },
  "cells": [
    {
      "cell_type": "code",
      "execution_count": 72,
      "metadata": {
        "id": "yXE3K7VIffwz"
      },
      "outputs": [],
      "source": [
        "import numpy as stuff"
      ]
    },
    {
      "cell_type": "code",
      "source": [
        "def method1(size):\n",
        "  list = []\n",
        "  for i in range(size):\n",
        "   list.append(stuff.random.randint(10,50))\n",
        "  return list \n",
        "\n",
        "def sum_random (list):\n",
        "  sum = 0\n",
        "  for i in range(len(list)):\n",
        "    sum = sum + list[i]\n",
        "  return sum\n",
        "\n",
        "n = int(input(\"Enter an integer number between 5 and 15: \"))\n",
        "while True:\n",
        "  if n < 5 or n > 15:\n",
        "    n = int(input(\"Please make sure to enter interger between 5 and 15!!!\"))\n",
        "  else:\n",
        "   break\n",
        "Mylist = method1(n)\n",
        "print(Mylist)\n",
        "\n",
        "Mysum = sum_random(Mylist)\n",
        "print(Mysum)\n",
        "\n",
        "\n"
      ],
      "metadata": {
        "colab": {
          "base_uri": "https://localhost:8080/"
        },
        "id": "7DbYszNBhofd",
        "outputId": "255c5524-62ed-48de-bc4d-d9eb9cd421c6"
      },
      "execution_count": 103,
      "outputs": [
        {
          "output_type": "stream",
          "name": "stdout",
          "text": [
            "Enter an integer number between 5 and 15: 4\n",
            "Please make sure to enter interger between 5 and 15!!!16\n",
            "Please make sure to enter interger between 5 and 15!!!10\n",
            "[40, 37, 33, 36, 18, 41, 45, 28, 33, 35]\n",
            "346\n"
          ]
        }
      ]
    }
  ]
}